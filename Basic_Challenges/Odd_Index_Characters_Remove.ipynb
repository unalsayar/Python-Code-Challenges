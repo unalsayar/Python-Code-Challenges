{
 "cells": [
  {
   "cell_type": "markdown",
   "id": "38e614e7",
   "metadata": {},
   "source": [
    "## Odd Index Remove\n",
    "\n",
    "### Related Title: Indexing, Loop\n",
    "--------------------------------------\n",
    "\n",
    "Write a Python program to remove the characters which have odd index values of a given string."
   ]
  },
  {
   "cell_type": "code",
   "execution_count": 8,
   "id": "2b6d7f98",
   "metadata": {},
   "outputs": [
    {
     "data": {
      "text/plain": [
       "'Ilk lrsa!'"
      ]
     },
     "execution_count": 8,
     "metadata": {},
     "output_type": "execute_result"
    }
   ],
   "source": [
    "# Solution 1\n",
    "\n",
    "text = 'I like Clarusway!'\n",
    "\n",
    "text = text[::2]\n",
    "\n",
    "text"
   ]
  },
  {
   "cell_type": "code",
   "execution_count": 18,
   "id": "01667966",
   "metadata": {},
   "outputs": [
    {
     "data": {
      "text/plain": [
       "' Ilk lrsa!'"
      ]
     },
     "execution_count": 18,
     "metadata": {},
     "output_type": "execute_result"
    }
   ],
   "source": [
    "# Solution 2\n",
    "\n",
    "text = 'I like Clarusway!'\n",
    "\n",
    "result = ' '\n",
    "\n",
    "for i in range(len(text)):\n",
    "    if i % 2 == 0:\n",
    "        result += text[i]\n",
    "\n",
    "result"
   ]
  },
  {
   "cell_type": "code",
   "execution_count": 28,
   "id": "22d78743",
   "metadata": {},
   "outputs": [
    {
     "name": "stdout",
     "output_type": "stream",
     "text": [
      "I l k   l r s a !\n"
     ]
    }
   ],
   "source": [
    "# Solution 3\n",
    "\n",
    "text = 'I like Clarusway!'\n",
    "\n",
    "result = dict()\n",
    "\n",
    "for i in range(len(text)):\n",
    "    if i % 2 == 0:\n",
    "        result[i] = text[i]\n",
    "\n",
    "print(*list(result.values()))"
   ]
  }
 ],
 "metadata": {
  "kernelspec": {
   "display_name": "Python 3 (ipykernel)",
   "language": "python",
   "name": "python3"
  },
  "language_info": {
   "codemirror_mode": {
    "name": "ipython",
    "version": 3
   },
   "file_extension": ".py",
   "mimetype": "text/x-python",
   "name": "python",
   "nbconvert_exporter": "python",
   "pygments_lexer": "ipython3",
   "version": "3.9.7"
  }
 },
 "nbformat": 4,
 "nbformat_minor": 5
}
