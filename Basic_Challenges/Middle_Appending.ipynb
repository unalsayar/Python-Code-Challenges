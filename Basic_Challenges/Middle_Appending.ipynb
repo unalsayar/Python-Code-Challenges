{
 "cells": [
  {
   "cell_type": "markdown",
   "id": "aff8a12e",
   "metadata": {},
   "source": [
    "## Middle Appending\n",
    "\n",
    "### Related Title: Indexing, Silicing\n",
    "------------------------------------------\n",
    "\n",
    "Given two strings, s1 and s2. Write a program to create a new string s3 by appending s2 in the middle of s1."
   ]
  },
  {
   "cell_type": "code",
   "execution_count": 4,
   "id": "1a3ac26a",
   "metadata": {},
   "outputs": [
    {
     "name": "stdout",
     "output_type": "stream",
     "text": [
      "Please enter a text: Bruce\n",
      "Please enter a text: Willis\n",
      "BrWillisllis\n"
     ]
    }
   ],
   "source": [
    "# Solution 1\n",
    "\n",
    "s1 = input('Please enter a text: ')\n",
    "s2 = input('Please enter a text: ')\n",
    "\n",
    "middle = int(len(s1)/2)\n",
    "result = s1[:middle] + s2 + s2[middle:]\n",
    "\n",
    "print(result)"
   ]
  },
  {
   "cell_type": "code",
   "execution_count": 5,
   "id": "4982346d",
   "metadata": {},
   "outputs": [
    {
     "name": "stdout",
     "output_type": "stream",
     "text": [
      "Please enter a text: George\n",
      "Please enter a text: Clooney\n",
      "GeoClooneyrge\n"
     ]
    }
   ],
   "source": [
    "# Solution 2\n",
    "\n",
    "s1 = input('Please enter a text: ')\n",
    "s2 = input('Please enter a text: ')\n",
    "\n",
    "middle = round(len(s1)/2)\n",
    "result = s1[:middle] + s2 + s1[middle:]\n",
    "\n",
    "print(result)"
   ]
  }
 ],
 "metadata": {
  "kernelspec": {
   "display_name": "Python 3 (ipykernel)",
   "language": "python",
   "name": "python3"
  },
  "language_info": {
   "codemirror_mode": {
    "name": "ipython",
    "version": 3
   },
   "file_extension": ".py",
   "mimetype": "text/x-python",
   "name": "python",
   "nbconvert_exporter": "python",
   "pygments_lexer": "ipython3",
   "version": "3.9.7"
  }
 },
 "nbformat": 4,
 "nbformat_minor": 5
}
