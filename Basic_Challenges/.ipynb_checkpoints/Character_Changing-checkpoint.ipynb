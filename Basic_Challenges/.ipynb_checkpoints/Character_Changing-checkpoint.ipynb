{
 "cells": [
  {
   "cell_type": "markdown",
   "id": "20222599",
   "metadata": {},
   "source": [
    "## Character Changing\n",
    "\n",
    "### Related Title: Indexing, String Methods\n",
    "------------------------------------------------\n",
    "\n",
    "Write a Python program to get a string from a given string where all occurrences of its first char have been changed to '$', except the first char itself. \n",
    "\n",
    "Sample String : 'restart'\n",
    "\n",
    "Expected Result : 'resta$t'"
   ]
  },
  {
   "cell_type": "code",
   "execution_count": 4,
   "id": "d4db7059",
   "metadata": {},
   "outputs": [
    {
     "name": "stdout",
     "output_type": "stream",
     "text": [
      "resta$t\n"
     ]
    }
   ],
   "source": [
    "# Solution 1\n",
    "\n",
    "text = 'restart'\n",
    "first_r = text[0]\n",
    "new_text = text.replace(text[0], '$')[1::]\n",
    "\n",
    "print(first_r + new_text)\n"
   ]
  },
  {
   "cell_type": "code",
   "execution_count": 5,
   "id": "71031677",
   "metadata": {},
   "outputs": [
    {
     "name": "stdout",
     "output_type": "stream",
     "text": [
      "resta$t\n"
     ]
    }
   ],
   "source": [
    "# Solution 2\n",
    "\n",
    "text = 'restart'\n",
    "new_text = text[::-1].replace('r', '$', 1)[::-1]\n",
    "\n",
    "print(new_text)"
   ]
  },
  {
   "cell_type": "code",
   "execution_count": 8,
   "id": "b3d9d99c",
   "metadata": {},
   "outputs": [
    {
     "name": "stdout",
     "output_type": "stream",
     "text": [
      "resta$t\n"
     ]
    }
   ],
   "source": [
    "# Solution 3\n",
    "\n",
    "text = 'restart'\n",
    "new_text = text[0] + text[1:].replace(text[0], \"$\")\n",
    "\n",
    "print(new_text)"
   ]
  },
  {
   "cell_type": "code",
   "execution_count": 12,
   "id": "57abea7c",
   "metadata": {},
   "outputs": [
    {
     "name": "stdout",
     "output_type": "stream",
     "text": [
      "resta$t\n"
     ]
    }
   ],
   "source": [
    "# Solution 4\n",
    "\n",
    "text = 'restart'\n",
    "text = list('restart')\n",
    "text[5] = '$'\n",
    "\n",
    "print(''.join(text))"
   ]
  },
  {
   "cell_type": "code",
   "execution_count": 13,
   "id": "383c5cfa",
   "metadata": {},
   "outputs": [
    {
     "name": "stdout",
     "output_type": "stream",
     "text": [
      "resta$t\n"
     ]
    }
   ],
   "source": [
    "# Solution 5\n",
    "\n",
    "text = 'restart'\n",
    "new_text = text[0]\n",
    "\n",
    "for i in range(1, len(text)):\n",
    "    if text[i] == text[0]:\n",
    "        new_text += '$'\n",
    "    else:\n",
    "        new_text += text[i]\n",
    "        \n",
    "print(new_text)"
   ]
  }
 ],
 "metadata": {
  "kernelspec": {
   "display_name": "Python 3 (ipykernel)",
   "language": "python",
   "name": "python3"
  },
  "language_info": {
   "codemirror_mode": {
    "name": "ipython",
    "version": 3
   },
   "file_extension": ".py",
   "mimetype": "text/x-python",
   "name": "python",
   "nbconvert_exporter": "python",
   "pygments_lexer": "ipython3",
   "version": "3.9.7"
  }
 },
 "nbformat": 4,
 "nbformat_minor": 5
}
