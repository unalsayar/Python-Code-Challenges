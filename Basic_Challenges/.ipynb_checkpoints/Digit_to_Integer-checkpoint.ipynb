{
 "cells": [
  {
   "cell_type": "markdown",
   "id": "eec48f0d",
   "metadata": {},
   "source": [
    "## Digit to Integer\n",
    "\n",
    "### Related Title: String Methods, Formatting\n",
    "-------------------------------------\n",
    "\n",
    "Write a Program to extract each digit from an integer in the reverse order.\n",
    "\n",
    "For example, If the given int is 7536, the output shall be '6 3 5 7', with a space seperating the digits."
   ]
  },
  {
   "cell_type": "code",
   "execution_count": 3,
   "id": "e98cfed4",
   "metadata": {},
   "outputs": [
    {
     "name": "stdout",
     "output_type": "stream",
     "text": [
      "Please enter a number: 7536\n",
      "<class 'str'>\n",
      "6 3 5 7\n"
     ]
    }
   ],
   "source": [
    "# Solution 1\n",
    "\n",
    "number = input('Please enter a number: ')\n",
    "\n",
    "result = ' '.join(i for i in list(number)[::-1])\n",
    "\n",
    "print(type(result))\n",
    "print(result)"
   ]
  },
  {
   "cell_type": "code",
   "execution_count": 5,
   "id": "e13a762d",
   "metadata": {},
   "outputs": [
    {
     "name": "stdout",
     "output_type": "stream",
     "text": [
      "Please enter a number: 7536\n",
      "6 3 5 7\n"
     ]
    }
   ],
   "source": [
    "# Solution 2\n",
    "\n",
    "number = input('Please enter a number: ')\n",
    "\n",
    "result = str(number)[::-1]\n",
    "\n",
    "print('{0[0]} {0[1]} {0[2]} {0[3]}'.format(result))"
   ]
  },
  {
   "cell_type": "code",
   "execution_count": 6,
   "id": "f3f13bea",
   "metadata": {},
   "outputs": [
    {
     "name": "stdout",
     "output_type": "stream",
     "text": [
      "Please enter a number: 7654\n",
      "4 5 6 7\n"
     ]
    }
   ],
   "source": [
    "# Solution 3\n",
    "\n",
    "number = input('Please enter a number: ')\n",
    "number = list(number)[::-1]\n",
    "\n",
    "print(' '.join(number))\n"
   ]
  },
  {
   "cell_type": "code",
   "execution_count": 7,
   "id": "463c7cb4",
   "metadata": {},
   "outputs": [
    {
     "name": "stdout",
     "output_type": "stream",
     "text": [
      "Please enter a number: 7536\n",
      "6 3 5 7\n"
     ]
    }
   ],
   "source": [
    "# Solution 4\n",
    "\n",
    "number = int(input('Please enter a number: '))\n",
    "digits = []\n",
    "\n",
    "while number > 0:\n",
    "    digits.append(number % 10)\n",
    "    number = (number - number%10) // 10\n",
    "    \n",
    "print(*digits)\n"
   ]
  }
 ],
 "metadata": {
  "kernelspec": {
   "display_name": "Python 3 (ipykernel)",
   "language": "python",
   "name": "python3"
  },
  "language_info": {
   "codemirror_mode": {
    "name": "ipython",
    "version": 3
   },
   "file_extension": ".py",
   "mimetype": "text/x-python",
   "name": "python",
   "nbconvert_exporter": "python",
   "pygments_lexer": "ipython3",
   "version": "3.9.7"
  }
 },
 "nbformat": 4,
 "nbformat_minor": 5
}
