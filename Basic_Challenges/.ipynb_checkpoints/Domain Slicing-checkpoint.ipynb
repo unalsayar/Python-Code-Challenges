{
 "cells": [
  {
   "cell_type": "markdown",
   "id": "b868d4a2",
   "metadata": {},
   "source": [
    "## Domain Slicing\n",
    "\n",
    "### Related Title: Slicing, Indexing, String Methods\n",
    "------------------------------------------------------------\n",
    "\n",
    "mail = \"mailto: Clarusway admission@clarusway.com, 6 Haz 2021 Paz, 21:08 tarihinde şunu yazdı:\"\n",
    "\n",
    "Write python code that outputs \"clarusway.com\" from the string in the \"mail\" variable.\n",
    "\n",
    "Expected Output: clarusway.com\n"
   ]
  },
  {
   "cell_type": "code",
   "execution_count": 3,
   "id": "6a806828",
   "metadata": {},
   "outputs": [
    {
     "name": "stdout",
     "output_type": "stream",
     "text": [
      "clarusway.com\n"
     ]
    }
   ],
   "source": [
    "# Solution 1\n",
    "\n",
    "mail = \"mailto: Clarusway admission@clarusway.com, 6 Haz 2021 Paz, 21:08 tarihinde şunu yazdı:\"\n",
    "start = mail.index('@')\n",
    "finish = mail.index(',')\n",
    "\n",
    "result = mail[start+1:finish]\n",
    "print(result)"
   ]
  },
  {
   "cell_type": "code",
   "execution_count": 4,
   "id": "f106a230",
   "metadata": {},
   "outputs": [
    {
     "name": "stdout",
     "output_type": "stream",
     "text": [
      "clarusway.com\n"
     ]
    }
   ],
   "source": [
    "# Solution 2\n",
    "\n",
    "mail = \"mailto: Clarusway admission@clarusway.com, 6 Haz 2021 Paz, 21:08 tarihinde şunu yazdı:\"\n",
    "\n",
    "result = mail.lstrip('mailto: Clarusway admission@').rstrip(', 6 Haz 2021 Paz, 21:08 tarihinde şunu yazdı:')\n",
    "\n",
    "print(result)"
   ]
  },
  {
   "cell_type": "code",
   "execution_count": 7,
   "id": "b1c485ee",
   "metadata": {},
   "outputs": [
    {
     "name": "stdout",
     "output_type": "stream",
     "text": [
      "clarusway.com\n"
     ]
    }
   ],
   "source": [
    "# Solution 3\n",
    "\n",
    "mail = \"mailto: Clarusway admission@clarusway.com, 6 Haz 2021 Paz, 21:08 tarihinde şunu yazdı:\"\n",
    "\n",
    "mail = mail.replace('mailto: Clarusway admission@', '').replace(', 6 Haz 2021 Paz, 21:08 tarihinde şunu yazdı:', '')\n",
    "\n",
    "print(mail)"
   ]
  }
 ],
 "metadata": {
  "kernelspec": {
   "display_name": "Python 3 (ipykernel)",
   "language": "python",
   "name": "python3"
  },
  "language_info": {
   "codemirror_mode": {
    "name": "ipython",
    "version": 3
   },
   "file_extension": ".py",
   "mimetype": "text/x-python",
   "name": "python",
   "nbconvert_exporter": "python",
   "pygments_lexer": "ipython3",
   "version": "3.9.7"
  }
 },
 "nbformat": 4,
 "nbformat_minor": 5
}
