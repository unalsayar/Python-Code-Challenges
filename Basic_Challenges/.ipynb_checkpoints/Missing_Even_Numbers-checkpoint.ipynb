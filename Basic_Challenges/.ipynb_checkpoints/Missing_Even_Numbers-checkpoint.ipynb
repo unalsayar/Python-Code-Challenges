{
 "cells": [
  {
   "cell_type": "markdown",
   "id": "c6c95f27",
   "metadata": {},
   "source": [
    "## Missing Even Numbers\n",
    "\n",
    "### Related Title: List Methods, Loops, Aritmetic Operatorors\n",
    "-------------------------------------------------------------------------\n",
    "\n",
    "A jumbled list is given whose elements are consecutive numbers. Write python code that outputs even numbers of missing numbers that are between the smallest element and the largest element of the list, but not shown in the list.\n",
    "\n",
    "Input:\n",
    "    \n",
    "numbers = [48, 10, 11, 21, 36, 5, 6, 52, 28, 29, 53, 54, 45, 19, 20, 47, 55, 39, 41, 7, 9, 17, 26, 27, 42, 22, 37, 51, 46, 18, 44, 30, 34, 13, 15, 35, 33, 16, 50, 24]\n",
    "\n",
    "Expected Output:\n",
    "\n",
    "8 12 14 32 38 40 (edited) "
   ]
  },
  {
   "cell_type": "code",
   "execution_count": 28,
   "id": "1931f46b",
   "metadata": {},
   "outputs": [
    {
     "name": "stdout",
     "output_type": "stream",
     "text": [
      "8 12 14 32 38 40\n"
     ]
    }
   ],
   "source": [
    "# Solution 1\n",
    "\n",
    "numbers = [48, 10, 11, 21, 36, 5, 6, 52, 28, 29, 53, 54, 45, 19, 20, 47, 55, 39, 41, \n",
    "           7, 9, 17, 26, 27, 42, 22, 37, 51, 46, 18, 44, 30, 34, 13, 15, 35, 33, 16, 50, 24]\n",
    "missing_numbers = []\n",
    "\n",
    "numbers.sort()\n",
    "for i in range(min(numbers), max(numbers)+1):\n",
    "    if i % 2 == 0 and i not in numbers:\n",
    "        missing_numbers.append(i)\n",
    "        \n",
    "print(* missing_numbers)\n",
    "    \n",
    "    "
   ]
  },
  {
   "cell_type": "code",
   "execution_count": 29,
   "id": "908468fb",
   "metadata": {},
   "outputs": [
    {
     "name": "stdout",
     "output_type": "stream",
     "text": [
      "8 12 14 32 38 40\n"
     ]
    }
   ],
   "source": [
    "# Solution 2\n",
    "\n",
    "numbers = [48, 10, 11, 21, 36, 5, 6, 52, 28, 29, 53, 54, 45, 19, 20, 47, 55, 39, 41, \n",
    "           7, 9, 17, 26, 27, 42, 22, 37, 51, 46, 18, 44, 30, 34, 13, 15, 35, 33, 16, 50, 24]\n",
    "numbers.sort()\n",
    "\n",
    "missing_numbers = []\n",
    "\n",
    "for i in range(numbers[0], numbers[-1]+1):\n",
    "    if i not in numbers and i % 2 == 0:\n",
    "        missing_numbers.append(i)\n",
    "        \n",
    "print(* missing_numbers)\n"
   ]
  },
  {
   "cell_type": "code",
   "execution_count": 31,
   "id": "68fb43d5",
   "metadata": {},
   "outputs": [
    {
     "name": "stdout",
     "output_type": "stream",
     "text": [
      "8 12 14 32 38 40\n"
     ]
    }
   ],
   "source": [
    "# Solution 3\n",
    "\n",
    "numbers = [48, 10, 11, 21, 36, 5, 6, 52, 28, 29, 53, 54, 45, 19, 20, 47, 55, 39, 41, \n",
    "           7, 9, 17, 26, 27, 42, 22, 37, 51, 46, 18, 44, 30, 34, 13, 15, 35, 33, 16, 50, 24]\n",
    "\n",
    "print(*(i for i in range(min(numbers), max(numbers)+1) if i % 2 == 0 and i not in numbers))"
   ]
  },
  {
   "cell_type": "code",
   "execution_count": 33,
   "id": "ce0a030f",
   "metadata": {},
   "outputs": [
    {
     "name": "stdout",
     "output_type": "stream",
     "text": [
      "8 12 14 32 38 40\n"
     ]
    }
   ],
   "source": [
    "# Solution 4\n",
    "\n",
    "numbers = [48, 10, 11, 21, 36, 5, 6, 52, 28, 29, 53, 54, 45, 19, 20, 47, 55, 39, 41, \n",
    "           7, 9, 17, 26, 27, 42, 22, 37, 51, 46, 18, 44, 30, 34, 13, 15, 35, 33, 16, 50, 24]\n",
    "\n",
    "print(*sorted((set(range(min(numbers)%2 + min(numbers), max(numbers)+1,2))-set(numbers))))"
   ]
  }
 ],
 "metadata": {
  "kernelspec": {
   "display_name": "Python 3 (ipykernel)",
   "language": "python",
   "name": "python3"
  },
  "language_info": {
   "codemirror_mode": {
    "name": "ipython",
    "version": 3
   },
   "file_extension": ".py",
   "mimetype": "text/x-python",
   "name": "python",
   "nbconvert_exporter": "python",
   "pygments_lexer": "ipython3",
   "version": "3.9.7"
  }
 },
 "nbformat": 4,
 "nbformat_minor": 5
}
