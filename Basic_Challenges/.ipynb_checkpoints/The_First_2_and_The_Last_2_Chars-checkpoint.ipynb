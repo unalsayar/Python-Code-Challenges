{
 "cells": [
  {
   "cell_type": "markdown",
   "id": "5df69143",
   "metadata": {},
   "source": [
    "## The First 2 and The Last 2 Chars\n",
    "\n",
    "### Related Title: Control Flow, Indexing, Slicing\n",
    "-------------------------------------\n",
    "\n",
    "Write a Python program to get a string made of the first 2 and the last 2 chars from a given a string. If the string length is less than 2, return instead of the empty string.\n",
    "\n",
    "Sample String : 'w3resource'\n",
    "\n",
    "Expected Result : 'w3ce'\n",
    "\n",
    "\n",
    "Sample String : 'w3'\n",
    "\n",
    "Expected Result : 'w3w3'\n",
    "\n",
    "\n",
    "Sample String : ' w'\n",
    "\n",
    "Expected Result : Empty String"
   ]
  },
  {
   "cell_type": "code",
   "execution_count": 8,
   "id": "f0cf61ac",
   "metadata": {},
   "outputs": [
    {
     "name": "stdout",
     "output_type": "stream",
     "text": [
      "Enter a Text: clarusway\n",
      "clay\n"
     ]
    }
   ],
   "source": [
    "# Solution 1\n",
    "\n",
    "text = input('Enter a Text: ')\n",
    "\n",
    "if len(text) >= 2:\n",
    "    result = (text[0:2] + text[-2:])\n",
    "else:\n",
    "    result = 'Empty String'\n",
    "    \n",
    "print(result)"
   ]
  }
 ],
 "metadata": {
  "kernelspec": {
   "display_name": "Python 3 (ipykernel)",
   "language": "python",
   "name": "python3"
  },
  "language_info": {
   "codemirror_mode": {
    "name": "ipython",
    "version": 3
   },
   "file_extension": ".py",
   "mimetype": "text/x-python",
   "name": "python",
   "nbconvert_exporter": "python",
   "pygments_lexer": "ipython3",
   "version": "3.9.7"
  }
 },
 "nbformat": 4,
 "nbformat_minor": 5
}
