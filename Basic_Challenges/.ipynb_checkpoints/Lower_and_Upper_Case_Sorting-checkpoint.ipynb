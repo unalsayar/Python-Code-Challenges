{
 "cells": [
  {
   "cell_type": "markdown",
   "id": "56e13c2f",
   "metadata": {},
   "source": [
    "## Lower and Upper Case Sorting\n",
    "\n",
    "### Related Title: Loops, String Methods\n",
    "----------------------------------------------------\n",
    "\n",
    "Given string contains a combination of the lower and upper case letters. Write a program to arrange the characters of a string so that all lowercase letters should come first."
   ]
  },
  {
   "cell_type": "code",
   "execution_count": 6,
   "id": "5d74f5ee",
   "metadata": {},
   "outputs": [
    {
     "name": "stdout",
     "output_type": "stream",
     "text": [
      "Please entry a text: Clarusway IT School\n",
      "larusway  choolCITS\n"
     ]
    }
   ],
   "source": [
    "# Solution 1\n",
    "\n",
    "text = input('Please entry a text: ')\n",
    "upper = []\n",
    "lower = []\n",
    "\n",
    "for i in text:\n",
    "    if i.isupper():\n",
    "        upper.append(i)\n",
    "    else:\n",
    "        lower.append(i)\n",
    "        \n",
    "    result = ''.join(lower + upper)\n",
    "    \n",
    "print(result)\n",
    "        "
   ]
  },
  {
   "cell_type": "code",
   "execution_count": 13,
   "id": "949e1778",
   "metadata": {},
   "outputs": [
    {
     "name": "stdout",
     "output_type": "stream",
     "text": [
      "Please entry a text: Clarusway IT School\n",
      "ywusroollhcaaTSIC  \n"
     ]
    }
   ],
   "source": [
    "# Solution 2\n",
    "\n",
    "text = input('Please entry a text: ')\n",
    "text = list(text)\n",
    "text.sort(reverse=True)\n",
    "\n",
    "print(''.join(text))"
   ]
  },
  {
   "cell_type": "code",
   "execution_count": 14,
   "id": "2337c4da",
   "metadata": {},
   "outputs": [
    {
     "name": "stdout",
     "output_type": "stream",
     "text": [
      "Please entry a text: Clarusway IT School\n",
      "larusway  choolCITS\n"
     ]
    }
   ],
   "source": [
    "# Solution 3\n",
    "\n",
    "text = input('Please entry a text: ')\n",
    "upper = ''\n",
    "lower = ''\n",
    "\n",
    "for i in text:\n",
    "    if i.isupper():\n",
    "        upper += i\n",
    "    else:\n",
    "        lower += i\n",
    "        \n",
    "print(lower + upper)"
   ]
  },
  {
   "cell_type": "code",
   "execution_count": 15,
   "id": "1c8a7db7",
   "metadata": {},
   "outputs": [
    {
     "name": "stdout",
     "output_type": "stream",
     "text": [
      "Please entry a text: Clarusway IT School\n",
      "ywusroollhcaaTSIC  \n"
     ]
    }
   ],
   "source": [
    "# Solution 4\n",
    "\n",
    "text = input('Please entry a text: ')\n",
    "result = ''\n",
    "\n",
    "sorted_text = sorted(text, reverse=True)\n",
    "\n",
    "for i in sorted_text:\n",
    "    result += i\n",
    "    \n",
    "print(result)"
   ]
  }
 ],
 "metadata": {
  "kernelspec": {
   "display_name": "Python 3 (ipykernel)",
   "language": "python",
   "name": "python3"
  },
  "language_info": {
   "codemirror_mode": {
    "name": "ipython",
    "version": 3
   },
   "file_extension": ".py",
   "mimetype": "text/x-python",
   "name": "python",
   "nbconvert_exporter": "python",
   "pygments_lexer": "ipython3",
   "version": "3.9.7"
  }
 },
 "nbformat": 4,
 "nbformat_minor": 5
}
