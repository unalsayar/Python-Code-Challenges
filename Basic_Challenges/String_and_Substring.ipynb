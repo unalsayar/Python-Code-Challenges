{
 "cells": [
  {
   "cell_type": "markdown",
   "id": "cccb6903",
   "metadata": {},
   "source": [
    "## String and Substring\n",
    "\n",
    "### Related Title: String Methods\n",
    "----------------------------------------\n",
    "\n",
    "The user enters a string and a substring. You have to print the number of times that the substring occurs in the given string. String traversal will take place from left to right, not from right to left.\n",
    "\n",
    "NOTE: String letters are case-sensitive.\n",
    "\n",
    "Sample Input:\n",
    "\n",
    "ABCDCDC\n",
    "\n",
    "CDC\n",
    "\n",
    "\n",
    "Sample Output:2"
   ]
  },
  {
   "cell_type": "code",
   "execution_count": 2,
   "id": "b6d64a35",
   "metadata": {},
   "outputs": [
    {
     "name": "stdout",
     "output_type": "stream",
     "text": [
      "Please enter a string: hipopotamus\n",
      "Please enter a substring: po\n",
      "2\n"
     ]
    }
   ],
   "source": [
    "# Solution 1\n",
    "\n",
    "str1 = input('Please enter a string: ')\n",
    "str2 = input('Please enter a substring: ')\n",
    "\n",
    "result = str1.count(str2)\n",
    "\n",
    "print(result)"
   ]
  },
  {
   "cell_type": "code",
   "execution_count": 6,
   "id": "eb06ece8",
   "metadata": {},
   "outputs": [
    {
     "name": "stdout",
     "output_type": "stream",
     "text": [
      "Please enter a string: hipopotamus\n",
      "Please enter a substring: po\n",
      "2\n"
     ]
    }
   ],
   "source": [
    "# Solution 2\n",
    "\n",
    "str1 = input('Please enter a string: ')\n",
    "str2 = input('Please enter a substring: ')\n",
    "\n",
    "print(sum(1 for i in range(len(str1)) if str1.startswith(str2, i)))\n"
   ]
  },
  {
   "cell_type": "code",
   "execution_count": 7,
   "id": "333dc8a9",
   "metadata": {},
   "outputs": [
    {
     "name": "stdout",
     "output_type": "stream",
     "text": [
      "Please enter a string: hipopotamus\n",
      "Please enter a substring: po\n",
      "2\n"
     ]
    }
   ],
   "source": [
    "# Solution 3\n",
    "\n",
    "str1 = input('Please enter a string: ')\n",
    "str2 = input('Please enter a substring: ')\n",
    "\n",
    "count = 0\n",
    "\n",
    "for i in range(len(str1)):\n",
    "    if str1[i:i+len(str2)] == str2:\n",
    "        count += 1\n",
    "print(count)"
   ]
  }
 ],
 "metadata": {
  "kernelspec": {
   "display_name": "Python 3 (ipykernel)",
   "language": "python",
   "name": "python3"
  },
  "language_info": {
   "codemirror_mode": {
    "name": "ipython",
    "version": 3
   },
   "file_extension": ".py",
   "mimetype": "text/x-python",
   "name": "python",
   "nbconvert_exporter": "python",
   "pygments_lexer": "ipython3",
   "version": "3.9.7"
  }
 },
 "nbformat": 4,
 "nbformat_minor": 5
}
