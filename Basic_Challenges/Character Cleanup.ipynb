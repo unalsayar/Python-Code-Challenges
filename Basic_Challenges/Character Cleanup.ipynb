{
 "cells": [
  {
   "cell_type": "markdown",
   "id": "9cc0316c",
   "metadata": {},
   "source": [
    "## Character Cleanup\n",
    "\n",
    "### Related Title: String Methods, Loops\n",
    "-------------------------------------------------------------\n",
    "\n",
    "Write python code that clears all characters except integers in the given variable \"str1\" and outputs only integers. Good Luck...\n",
    "\n",
    "Given:\n",
    "str1 =  'I am 25 years and 10 months old'\n",
    "\n",
    "Expected Output: 2510 (edited) "
   ]
  },
  {
   "cell_type": "code",
   "execution_count": 1,
   "id": "629b5a32",
   "metadata": {},
   "outputs": [
    {
     "name": "stdout",
     "output_type": "stream",
     "text": [
      "2510"
     ]
    }
   ],
   "source": [
    "# Solution 1\n",
    "\n",
    "str1 = 'I am 25 years and 10 months old'\n",
    "\n",
    "for i in range(len(str1)-1):\n",
    "    for number in range(9):\n",
    "        if (str1[i] == str(number)):\n",
    "            print(number, end=\"\")"
   ]
  },
  {
   "cell_type": "code",
   "execution_count": 6,
   "id": "e34d920c",
   "metadata": {},
   "outputs": [
    {
     "name": "stdout",
     "output_type": "stream",
     "text": [
      "2510\n"
     ]
    }
   ],
   "source": [
    "# Solution 2\n",
    "\n",
    "str1 = 'I am 25 years and 10 months old'\n",
    "result = \"\"\n",
    "\n",
    "for i in str1:\n",
    "    if i in \"0123456789\":\n",
    "        result += i\n",
    "        \n",
    "print(result)    "
   ]
  },
  {
   "cell_type": "code",
   "execution_count": 8,
   "id": "d674f9eb",
   "metadata": {},
   "outputs": [
    {
     "name": "stdout",
     "output_type": "stream",
     "text": [
      "2510\n"
     ]
    }
   ],
   "source": [
    "# Solution 3\n",
    "\n",
    "str1 = 'I am 25 years and 10 months old'\n",
    "result = \"\"\n",
    "\n",
    "for i in str1:\n",
    "    if i.isdigit():\n",
    "        result += i\n",
    "        \n",
    "print(result)"
   ]
  },
  {
   "cell_type": "code",
   "execution_count": 9,
   "id": "91b072f1",
   "metadata": {},
   "outputs": [
    {
     "name": "stdout",
     "output_type": "stream",
     "text": [
      "2510\n"
     ]
    }
   ],
   "source": [
    "# Solution 4\n",
    "\n",
    "str1 = 'I am 25 years and 10 months old'\n",
    "result = []\n",
    "\n",
    "for i in str1:\n",
    "    if i.isnumeric():\n",
    "        result.append(i)\n",
    "        \n",
    "print(''.join(result))"
   ]
  },
  {
   "cell_type": "code",
   "execution_count": 10,
   "id": "1661e82d",
   "metadata": {},
   "outputs": [
    {
     "name": "stdout",
     "output_type": "stream",
     "text": [
      "2510\n"
     ]
    }
   ],
   "source": [
    "# Solution 5\n",
    "\n",
    "str1 = 'I am 25 years and 10 months old'\n",
    "\n",
    "new_str = filter(str.isdigit, str1)\n",
    "\n",
    "result = ''.join(new_str)\n",
    "\n",
    "print(result)"
   ]
  },
  {
   "cell_type": "code",
   "execution_count": 22,
   "id": "52709b06",
   "metadata": {},
   "outputs": [
    {
     "name": "stdout",
     "output_type": "stream",
     "text": [
      "  25   10  \n"
     ]
    }
   ],
   "source": [
    "# Solution 6\n",
    "\n",
    "str1 = 'I am 25 years and 10 months old'\n",
    "result = ''\n",
    "\n",
    "for i in range(65,91):\n",
    "    i = chr(i)\n",
    "    big_char = ''.join(i)\n",
    "    result += big_char\n",
    "    \n",
    "for j in range(97,123):\n",
    "    j = chr(j)\n",
    "    small_char = ''.join(j)\n",
    "    result += small_char\n",
    "    \n",
    "change = str.maketrans('','',result)\n",
    "number = str1.translate(change)\n",
    "print(number)"
   ]
  }
 ],
 "metadata": {
  "kernelspec": {
   "display_name": "Python 3 (ipykernel)",
   "language": "python",
   "name": "python3"
  },
  "language_info": {
   "codemirror_mode": {
    "name": "ipython",
    "version": 3
   },
   "file_extension": ".py",
   "mimetype": "text/x-python",
   "name": "python",
   "nbconvert_exporter": "python",
   "pygments_lexer": "ipython3",
   "version": "3.9.7"
  }
 },
 "nbformat": 4,
 "nbformat_minor": 5
}
