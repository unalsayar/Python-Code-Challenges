{
 "cells": [
  {
   "cell_type": "markdown",
   "id": "9571e2d1",
   "metadata": {},
   "source": [
    "## Total Number\n",
    "\n",
    "### Related Title: Loop, Aritmetic Operators\n",
    "-------------------------------------------------\n",
    "\n",
    "In each while loop, take a number from the user and add the numbers entered by the user to a variable named \"sum\". When the user presses the \"q\" key, terminate the loop and print the \"sum variable\" to the screen."
   ]
  },
  {
   "cell_type": "code",
   "execution_count": 3,
   "id": "0716db42",
   "metadata": {},
   "outputs": [
    {
     "name": "stdout",
     "output_type": "stream",
     "text": [
      "Please Enter a Number: 5\n",
      "Please Enter a Number: Q\n",
      "5\n"
     ]
    }
   ],
   "source": [
    "# Solution 1\n",
    "\n",
    "total_number = 0\n",
    "\n",
    "while True:\n",
    "    number = input('Please Enter a Number: ')\n",
    "    \n",
    "    if number.lower() == 'q':\n",
    "        break\n",
    "    else:\n",
    "        total_number += int(number)\n",
    "        \n",
    "print(total_number)"
   ]
  },
  {
   "cell_type": "code",
   "execution_count": 4,
   "id": "9926b9ae",
   "metadata": {},
   "outputs": [
    {
     "name": "stdout",
     "output_type": "stream",
     "text": [
      "Please Enter a Number: 5\n",
      "Please Enter a Number: 5\n",
      "Please Enter a Number: q\n",
      "10\n"
     ]
    }
   ],
   "source": [
    "# Solution 2\n",
    "\n",
    "number_list = []\n",
    "\n",
    "while True:\n",
    "    number = input('Please Enter a Number: ')\n",
    "    \n",
    "    if number.lower() == 'q':\n",
    "        break\n",
    "    else:\n",
    "        number_list.append(int(number))\n",
    "        \n",
    "print(sum(number_list))"
   ]
  }
 ],
 "metadata": {
  "kernelspec": {
   "display_name": "Python 3 (ipykernel)",
   "language": "python",
   "name": "python3"
  },
  "language_info": {
   "codemirror_mode": {
    "name": "ipython",
    "version": 3
   },
   "file_extension": ".py",
   "mimetype": "text/x-python",
   "name": "python",
   "nbconvert_exporter": "python",
   "pygments_lexer": "ipython3",
   "version": "3.9.7"
  }
 },
 "nbformat": 4,
 "nbformat_minor": 5
}
