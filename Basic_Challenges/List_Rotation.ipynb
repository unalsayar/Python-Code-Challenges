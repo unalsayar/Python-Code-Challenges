{
 "cells": [
  {
   "cell_type": "markdown",
   "id": "89ff9501",
   "metadata": {},
   "source": [
    "## List Rotation\n",
    "\n",
    "### Related Title: Indexing, Slicing, String Methods\n",
    "---------------------\n",
    "\n",
    "Given a list, right rotate the list by n position.\n",
    "\n",
    "Examples :\n",
    "\n",
    "Input : n = 2 \n",
    "\n",
    "List_1 = [1, 2, 3, 4, 5, 6]\n",
    "\n",
    "Output : List_1 = [5, 6, 1, 2, 3, 4]\n",
    "\n",
    "We get output list after right rotating (clockwise) given list by 2.\n",
    "\n",
    "Input :  n = 3\n",
    "         \n",
    "List_1 = [3, 0, 1, 4, 2, 3]\n",
    "\n",
    "Output : List_1 = [4, 2, 3, 3, 0, 1]"
   ]
  },
  {
   "cell_type": "code",
   "execution_count": 32,
   "id": "92c9e675",
   "metadata": {},
   "outputs": [
    {
     "name": "stdout",
     "output_type": "stream",
     "text": [
      "Please Enter a Rotate Position: 1\n",
      "[6, 1, 2, 3, 4, 5]\n"
     ]
    }
   ],
   "source": [
    "# Solution 1\n",
    "\n",
    "list_1 = [1, 2, 3, 4, 5, 6]\n",
    "\n",
    "n = int(input('Please Enter a Rotate Position: '))\n",
    "\n",
    "result = list_1[len(list_1)-n:] + list_1[:len(list_1)-n]\n",
    "\n",
    "print(result)"
   ]
  },
  {
   "cell_type": "code",
   "execution_count": 33,
   "id": "d454363a",
   "metadata": {},
   "outputs": [
    {
     "name": "stdout",
     "output_type": "stream",
     "text": [
      "Please Enter a Rotate Position: 3\n",
      "[5, 6, 7, 1, 2, 3, 4]\n"
     ]
    }
   ],
   "source": [
    "# Solution 2\n",
    "\n",
    "list_1 = [1, 2, 3, 4, 5, 6, 7]\n",
    "\n",
    "n = int(input('Please Enter a Rotate Position: '))\n",
    "\n",
    "while n > 0:\n",
    "    list_1.insert(0, list_1.pop())\n",
    "    n -= 1\n",
    "    \n",
    "print(list_1)"
   ]
  },
  {
   "cell_type": "code",
   "execution_count": 38,
   "id": "37e2b69e",
   "metadata": {},
   "outputs": [
    {
     "name": "stdout",
     "output_type": "stream",
     "text": [
      "How many number you want to move right side: 2\n",
      "[6, 7, 1, 2, 3, 4, 5]\n"
     ]
    }
   ],
   "source": [
    "# Solution 3\n",
    "\n",
    "list_1 = [1, 2, 3, 4, 5, 6, 7]\n",
    "\n",
    "n = int(input(\"How many number you want to move right side: \"))\n",
    "\n",
    "for i in range(n):\n",
    "    first = list_1.pop()\n",
    "    list_1.insert(0,first)\n",
    "\n",
    "    print(list_1)"
   ]
  }
 ],
 "metadata": {
  "kernelspec": {
   "display_name": "Python 3 (ipykernel)",
   "language": "python",
   "name": "python3"
  },
  "language_info": {
   "codemirror_mode": {
    "name": "ipython",
    "version": 3
   },
   "file_extension": ".py",
   "mimetype": "text/x-python",
   "name": "python",
   "nbconvert_exporter": "python",
   "pygments_lexer": "ipython3",
   "version": "3.9.7"
  }
 },
 "nbformat": 4,
 "nbformat_minor": 5
}
