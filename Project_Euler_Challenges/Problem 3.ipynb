{
 "cells": [
  {
   "cell_type": "markdown",
   "id": "635fa215",
   "metadata": {},
   "source": [
    "## Problem 3\n",
    "\n",
    "### The prime factors of 13195 are 5, 7, 13 and 29.\n",
    "\n",
    "### What is the largest prime factor of the number 600851475143 ?"
   ]
  },
  {
   "cell_type": "code",
   "execution_count": 4,
   "id": "6c67133a",
   "metadata": {},
   "outputs": [
    {
     "name": "stdout",
     "output_type": "stream",
     "text": [
      "6857.0\n"
     ]
    }
   ],
   "source": [
    "# Solution 1\n",
    "\n",
    "n = 600851475143\n",
    "i = 2\n",
    "\n",
    "while i ** 2 < n:\n",
    "    while n % i == 0:\n",
    "        n = n/i\n",
    "    i = i + 1\n",
    "    \n",
    "print(n)\n",
    "    "
   ]
  },
  {
   "cell_type": "code",
   "execution_count": 6,
   "id": "22a93ae6",
   "metadata": {},
   "outputs": [
    {
     "name": "stdout",
     "output_type": "stream",
     "text": [
      "6857\n"
     ]
    }
   ],
   "source": [
    "# Solution 2\n",
    "\n",
    "import math\n",
    "\n",
    "def prime_control(x):\n",
    "    prime = True\n",
    "    \n",
    "    for i in range(2, int(math.sqrt(x)) + 1):\n",
    "        if x % i == 0:\n",
    "            prime = False\n",
    "        continue\n",
    "        \n",
    "    return prime\n",
    "\n",
    "number = 600851475143\n",
    "\n",
    "big_prime = 1\n",
    "\n",
    "for i in range(2, int(math.sqrt(number))):\n",
    "    if number % i == 0 and prime_control(i):\n",
    "        big_prime = i\n",
    "        \n",
    "print(big_prime)"
   ]
  }
 ],
 "metadata": {
  "kernelspec": {
   "display_name": "Python 3 (ipykernel)",
   "language": "python",
   "name": "python3"
  },
  "language_info": {
   "codemirror_mode": {
    "name": "ipython",
    "version": 3
   },
   "file_extension": ".py",
   "mimetype": "text/x-python",
   "name": "python",
   "nbconvert_exporter": "python",
   "pygments_lexer": "ipython3",
   "version": "3.9.7"
  }
 },
 "nbformat": 4,
 "nbformat_minor": 5
}
