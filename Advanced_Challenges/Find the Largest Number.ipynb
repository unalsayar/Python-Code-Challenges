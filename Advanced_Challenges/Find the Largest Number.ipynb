{
 "cells": [
  {
   "cell_type": "markdown",
   "id": "7a03e4d2",
   "metadata": {},
   "source": [
    "# Find the Largest Number\n",
    "\n",
    "Purpose of the this coding challenge is to solve a simple sorting problem in Python.\n",
    "\n",
    "Learning Outcomes\n",
    "---------------------------------------\n",
    "At the end of the this coding challenge, students will be able to;\n",
    "\n",
    "o-get a basic understanding of sorting algorithms.\n",
    "\n",
    "o-demonstrate their knowledge of lists in python\n",
    "\n",
    "o-implement loops to solve the problems in python\n",
    "\n",
    "o-get a better understanding of computational thinking concepts\n",
    "\n",
    "Problem Statement\n",
    "---------------------------------------\n",
    "Write a python code that finds the largest number among the 5 numbers given by the user as input.\n",
    "\n",
    "It is forbidden to use max() function.\n",
    "\n",
    "Indicate which computational thinking concepts have you used.\n",
    "\n",
    "Example for user inputs and respective outputs:\n",
    "---------------------\n",
    "\n",
    "Input: 1 2 3 4 5             \n",
    "\n",
    "Output: 5 \n",
    "\n",
    "Input: 67 85 19 39             \n",
    "\n",
    "Output: 85\n",
    "     "
   ]
  },
  {
   "cell_type": "code",
   "execution_count": 1,
   "id": "d61b7800",
   "metadata": {},
   "outputs": [
    {
     "name": "stdout",
     "output_type": "stream",
     "text": [
      "Please Enter a Number: 6\n",
      "Please Enter a Number: 2\n",
      "Please Enter a Number: 9\n",
      "Please Enter a Number: 1\n",
      "Please Enter a Number: 2\n",
      "The Largest Number: 9\n"
     ]
    }
   ],
   "source": [
    "# Solution 1\n",
    "\n",
    "counter = 0\n",
    "numbers = []\n",
    "\n",
    "while counter < 5:\n",
    "    num = input('Please Enter a Number: ')\n",
    "    numbers.append(num)\n",
    "    counter += 1\n",
    "    \n",
    "for i in range(len(numbers)):\n",
    "    for j in range(len(numbers)-1):\n",
    "        if numbers[j] > numbers[j+1]:\n",
    "            numbers[j], numbers[j+1] = numbers[j+1], numbers[j]\n",
    "        else:\n",
    "            continue\n",
    "            \n",
    "print('The Largest Number: {}'.format(numbers[-1]))"
   ]
  },
  {
   "cell_type": "code",
   "execution_count": 5,
   "id": "30191d34",
   "metadata": {},
   "outputs": [
    {
     "name": "stdout",
     "output_type": "stream",
     "text": [
      "Please Enter a Number: 67\n",
      "Please Enter a Number: 85\n",
      "Please Enter a Number: 19\n",
      "Please Enter a Number: 39\n",
      "Please Enter a Number: 0\n",
      "The Largest Number: 85\n"
     ]
    }
   ],
   "source": [
    "# Solution 2\n",
    "\n",
    "counter = 0\n",
    "numbers = []\n",
    "sorted_numbers = []\n",
    "\n",
    "while counter < 5:\n",
    "    num = int(input('Please Enter a Number: '))\n",
    "    numbers.append(num)\n",
    "    counter += 1\n",
    "    \n",
    "for i in range(len(numbers)):\n",
    "    sorted_numbers.append(min(numbers))\n",
    "    numbers.remove(min(numbers))\n",
    "    \n",
    "print('The Largest Number: {}'.format(sorted_numbers[-1]))"
   ]
  }
 ],
 "metadata": {
  "kernelspec": {
   "display_name": "Python 3 (ipykernel)",
   "language": "python",
   "name": "python3"
  },
  "language_info": {
   "codemirror_mode": {
    "name": "ipython",
    "version": 3
   },
   "file_extension": ".py",
   "mimetype": "text/x-python",
   "name": "python",
   "nbconvert_exporter": "python",
   "pygments_lexer": "ipython3",
   "version": "3.9.7"
  }
 },
 "nbformat": 4,
 "nbformat_minor": 5
}
